{
 "cells": [
  {
   "cell_type": "markdown",
   "id": "082ae101-644e-483d-bbe8-98a102105679",
   "metadata": {},
   "source": [
    "### Q1: What is the difference between a t-test and a z-test? Provide an example scenario where you would use each type of test."
   ]
  },
  {
   "cell_type": "markdown",
   "id": "6a055b36-c759-43bb-a78a-e1869a76cce0",
   "metadata": {},
   "source": [
    "The main difference between a t-test and a z-test lies in the assumptions they make about the population standard deviation.\n",
    "\n",
    "A t-test is used when the population standard deviation is unknown. In this case, the t-test estimates the standard deviation from the sample data, which results in a t-distribution. T-tests are commonly used in hypothesis testing for means, comparing the means of two groups (independent t-test) or paired groups (paired t-test), and in analysis of variance (ANOVA).\n",
    "\n",
    "For example, let's say you want to test if there's a significant difference in the average height of two groups of students (Group A and Group B) from different schools. You don't know the population standard deviation of heights for each school. In this scenario, you would use an independent t-test to compare the means of the two groups.\n",
    "\n",
    "On the other hand, a z-test assumes that the population standard deviation is known. In this case, the z-test uses the standard normal distribution (also known as the z-distribution) to calculate the test statistic. Z-tests are typically used when the sample size is large, and it's reasonable to assume that the population standard deviation is known.\n",
    "\n",
    "Using the same example as before, if you happen to know the population standard deviation of heights for both schools, you could use a z-test instead of a t-test to compare the means of the two groups."
   ]
  },
  {
   "cell_type": "markdown",
   "id": "fd137f35-2415-49e0-bad7-01bafd76ccd3",
   "metadata": {},
   "source": [
    "### Q2: Differentiate between one-tailed and two-tailed tests."
   ]
  },
  {
   "cell_type": "markdown",
   "id": "c34e9332-494d-416f-a3a3-3f0e5ecffbe8",
   "metadata": {},
   "source": [
    "In a one-tailed test, the alternative hypothesis focuses on a specific direction of the effect. For example, if you want to test whether a new medication improves test scores, the one-tailed test would look for evidence that the medication increases scores.\n",
    "\n",
    "In a two-tailed test, the alternative hypothesis doesn't specify a particular direction of the effect. It simply looks for any significant difference between groups. For example, if you want to test whether a new teaching method affects test scores, the two-tailed test would look for evidence of any difference, either an increase or a decrease in scores."
   ]
  },
  {
   "cell_type": "markdown",
   "id": "6aca23ae-4cc0-4e00-ac6f-65e2b22f83cd",
   "metadata": {},
   "source": [
    "### Q3: Explain the concept of Type 1 and Type 2 errors in hypothesis testing. Provide an example scenario for each type of error."
   ]
  },
  {
   "cell_type": "markdown",
   "id": "fbf75c48-f85d-4811-8962-0188598a4464",
   "metadata": {},
   "source": [
    "In hypothesis testing, Type 1 and Type 2 errors represent the possible incorrect conclusions that can be drawn from the test.\n",
    "\n",
    "1. **Type 1 Error (False Positive):** This occurs when the null hypothesis (H0) is rejected, but it is actually true. In other words, it is the error of rejecting the null hypothesis when it should not be rejected. The probability of a Type 1 error is denoted by the Greek letter alpha (α). A common level of significance for alpha is 0.05, meaning there is a 5% chance of committing a Type 1 error.\n",
    "\n",
    "**Example Scenario:** Suppose a new medication is being tested for its effectiveness in reducing blood pressure. The null hypothesis (H0) states that the medication has no effect on blood pressure. However, due to random fluctuations in the data or other factors, the test results in a significant difference, leading to the rejection of the null hypothesis. In reality, though, the medication has no effect on blood pressure, making this a Type 1 error.\n",
    "\n",
    "2. **Type 2 Error (False Negative):** This occurs when the null hypothesis is not rejected, even though it is actually false. In other words, it is the error of failing to reject the null hypothesis when it should be rejected. The probability of a Type 2 error is denoted by the Greek letter beta (β). The power of a statistical test, which is the ability to correctly reject the null hypothesis when it is false, is equal to 1 minus the probability of a Type 2 error (1 - β).\n",
    "\n",
    "**Example Scenario:** Consider the same scenario as before, but now the new medication has a small effect on blood pressure that is not statistically significant. The null hypothesis (H0) is not rejected because the sample data does not show a strong enough effect. In reality, the medication has a small effect on blood pressure, making this a Type 2 error.\n",
    "\n",
    "To minimize the chances of committing either Type 1 or Type 2 errors, researchers often choose a balance between the level of significance (α) and the power of the test (1 - β), depending on the specific context and the costs associated with each type of error. In general, a lower α increases the risk of a Type 1 error, while a higher power (1 - β) reduces the risk of a Type 2 error."
   ]
  },
  {
   "cell_type": "markdown",
   "id": "71bd135d-560b-4204-bd6e-3d75a2b8235b",
   "metadata": {},
   "source": [
    "### Q4: Explain Bayes's theorem with an example."
   ]
  },
  {
   "cell_type": "markdown",
   "id": "9a6b82c8-84b5-42e7-a2aa-8d59df1421d7",
   "metadata": {},
   "source": [
    "**Bayes's Theorem** is a mathematical formula that describes the probability of an event based on prior knowledge of conditions that might be related to the event. It is named after Thomas Bayes, an 18th-century statistician and theologian. The theorem is particularly useful in updating probabilities when new evidence becomes available.\n",
    "\n",
    "The formula for Bayes's Theorem is:\n",
    "\n",
    "$ P(A|B) = \\frac{P(B|A) \\cdot P(A)}{P(B)} $\n",
    "\n",
    "where:\n",
    "- $ P(A|B) $ is the probability of event A given that event B has occurred.\n",
    "- $ P(B|A) $ is the probability of event B given that event A has occurred.\n",
    "- $ P(A) $ and $ P(B) $ are the probabilities of events A and B, respectively.\n",
    "\n",
    "To illustrate Bayes's Theorem, let's consider a medical example:\n",
    "\n",
    "**Example: Medical Test for a Disease**\n",
    "\n",
    "Imagine there is a rare disease, and a diagnostic test has been developed to identify it. Let:\n",
    "- $ A $ be the event that a person has the disease.\n",
    "- $ B $ be the event that the test result is positive.\n",
    "\n",
    "The relevant probabilities are:\n",
    "- $ P(A) $: The prior probability of a person having the disease (which might be a small value if the disease is rare).\n",
    "- $ P(B|A) $: The probability of a positive test result given that the person actually has the disease (this is the sensitivity of the test).\n",
    "- $ P(B|\\neg A) $: The probability of a positive test result given that the person does not have the disease (this is the false positive rate of the test).\n",
    "\n",
    "Bayes's Theorem allows us to update our belief about whether a person has the disease based on the test result:\n",
    "\n",
    "$ P(A|B) = \\frac{P(B|A) \\cdot P(A)}{P(B|A) \\cdot P(A) + P(B|\\neg A) \\cdot P(\\neg A)} $\n",
    "\n",
    "This formula considers both the true positive rate of the test and the false positive rate. It helps us calculate the probability of having the disease given a positive test result, taking into account the prior probability of having the disease.\n",
    "\n",
    "In medical diagnostics, Bayes's Theorem is crucial for adjusting the interpretation of test results, especially when dealing with rare conditions or when false positives/negatives can have significant consequences."
   ]
  },
  {
   "cell_type": "markdown",
   "id": "1bad29dd-2196-439f-8854-23360864b8d7",
   "metadata": {},
   "source": [
    "### Q5: What is a confidence interval? How to calculate the confidence interval, explain with an example."
   ]
  },
  {
   "cell_type": "markdown",
   "id": "a7e40207-5405-4042-a70b-5eedb8af1720",
   "metadata": {},
   "source": [
    "**Confidence Interval:**\n",
    "A confidence interval is a statistical tool that provides a range of values, along with a level of confidence, within which we estimate a population parameter (such as the mean or proportion) is likely to fall. It expresses the uncertainty associated with our estimate.\n",
    "\n",
    "**Calculation of Confidence Interval:**\n",
    "The general formula for calculating a confidence interval for the mean is:\n",
    "\n",
    "$ \\text{Confidence Interval} = \\text{Sample Mean} \\pm \\left( \\text{Critical Value} \\times \\text{Standard Error} \\right) $\n",
    "\n",
    "Here's a step-by-step guide to calculating a confidence interval:\n",
    "\n",
    "1. **Collect Data:** Obtain a sample from the population of interest.\n",
    "\n",
    "2. **Calculate Sample Mean ($ \\bar{X} $):** Find the average of the sample data.\n",
    "\n",
    "3. **Determine Standard Deviation ($ \\sigma $) or Standard Error ($ SE $):**\n",
    "   - If the population standard deviation ($ \\sigma $) is known, use it.\n",
    "   - If not, calculate the standard error ($ SE $) using the sample standard deviation ($ s $) and the sample size ($ n $):\n",
    "   $ SE = \\frac{s}{\\sqrt{n}} $\n",
    "\n",
    "4. **Choose Confidence Level:** Common choices are 90%, 95%, or 99%. The confidence level represents the percentage of confidence intervals that would contain the true population parameter if we were to take many samples.\n",
    "\n",
    "5. **Determine Critical Value ($ Z $ or $ t $):**\n",
    "   - If the sample size is large (typically $ n \\geq 30 $) or the population standard deviation is known, use a $ Z $-score from the standard normal distribution.\n",
    "   - If the sample size is small and the population standard deviation is unknown, use a $ t $-score from the $ t $-distribution with $ n - 1 $ degrees of freedom.\n",
    "\n",
    "6. **Calculate Margin of Error ($ ME $):**\n",
    "   $ ME = \\text{Critical Value} \\times \\text{Standard Error} $\n",
    "\n",
    "7. **Construct the Confidence Interval:**\n",
    "   $ \\text{Confidence Interval} = \\text{Sample Mean} \\pm \\text{Margin of Error} $\n",
    "\n",
    "**Example:**\n",
    "Suppose you want to estimate the average height of a population. You collect a sample of 50 individuals and find the sample mean height to be 65 inches, and the sample standard deviation is 3 inches. You want a 95% confidence interval.\n",
    "\n",
    "1. **Calculate Standard Error:**\n",
    "   $ SE = \\frac{s}{\\sqrt{n}} = \\frac{3}{\\sqrt{50}} \\approx 0.424 $\n",
    "\n",
    "2. **Determine Critical Value:** Since $ n = 50 $ is relatively large, you use the $ Z $-score for a 95% confidence interval, which is approximately 1.96.\n",
    "\n",
    "3. **Calculate Margin of Error:**\n",
    "   $ ME = 1.96 \\times 0.424 \\approx 0.831 $\n",
    "\n",
    "4. **Construct Confidence Interval:**\n",
    "   $ \\text{Confidence Interval} = 65 \\pm 0.831 $\n",
    "   The 95% confidence interval for the average height is approximately $[64.169, 65.831]$.\n",
    "\n",
    "This means that we are 95% confident that the true average height of the population falls within this range."
   ]
  },
  {
   "cell_type": "code",
   "execution_count": 2,
   "id": "cbe89d99-4285-4f40-94d0-03c36b46f0c2",
   "metadata": {},
   "outputs": [
    {
     "name": "stdout",
     "output_type": "stream",
     "text": [
      "Sample Mean: 65\n",
      "Confidence Interval: [64.14740943463288, 65.85259056536712]\n"
     ]
    }
   ],
   "source": [
    "import numpy as np\n",
    "from scipy.stats import t\n",
    "\n",
    "# Given data\n",
    "sample_mean = 65\n",
    "sample_std_dev = 3\n",
    "sample_size = 50\n",
    "confidence_level = 0.95\n",
    "\n",
    "# Calculate standard error\n",
    "standard_error = sample_std_dev / np.sqrt(sample_size)\n",
    "\n",
    "# Calculate the critical value (t-score for a 95% confidence interval with 49 degrees of freedom)\n",
    "# Since we don't have the exact degrees of freedom, we use a conservative estimate of df = n - 1 = 49\n",
    "critical_value = t.ppf((1 + confidence_level) / 2, df=sample_size - 1)\n",
    "\n",
    "# Calculate the margin of error\n",
    "margin_of_error = critical_value * standard_error\n",
    "\n",
    "# Construct the confidence interval\n",
    "confidence_interval_lower = sample_mean - margin_of_error\n",
    "confidence_interval_upper = sample_mean + margin_of_error\n",
    "\n",
    "print(f\"Sample Mean: {sample_mean}\")\n",
    "print(f\"Confidence Interval: [{confidence_interval_lower}, {confidence_interval_upper}]\")\n"
   ]
  },
  {
   "cell_type": "markdown",
   "id": "dc45d6cd-bb02-4796-afc4-1e3bb5412147",
   "metadata": {},
   "source": [
    "### Q6. Use Bayes' Theorem to calculate the probability of an event occurring given prior knowledge of the event's probability and new evidence. Provide a sample problem and solution."
   ]
  },
  {
   "cell_type": "markdown",
   "id": "c272c59e-7fd7-4f21-a4f4-d0ec84d83087",
   "metadata": {},
   "source": [
    "Bayes' Theorem is a fundamental concept in probability theory and is used to calculate the probability of an event occurring, given some prior knowledge and new evidence. The theorem is represented as follows:\n",
    "\n",
    "P(A|B) = (P(B|A) * P(A)) / P(B)\n",
    "\n",
    "Where:\n",
    "- P(A|B) is the probability of event A occurring given that event B has occurred.\n",
    "- P(B|A) is the probability of event B occurring given that event A has occurred.\n",
    "- P(A) is the prior probability of event A occurring.\n",
    "- P(B) is the probability of event B occurring.\n",
    "\n",
    "Let's consider a sample problem:\n",
    "\n",
    "Suppose we have a box containing 3 red balls, 2 green balls, and 1 blue ball. We randomly pick one ball and then put it back before drawing again. What is the probability of drawing a red ball twice in a row?\n",
    "\n",
    "First, we need to determine the probabilities of each event:\n",
    "\n",
    "1. Probability of drawing a red ball (P(Red)):\n",
    "There are 3 red balls out of a total of 6 balls, so P(Red) = 3/6 = 1/2.\n",
    "\n",
    "2. Probability of drawing a red ball given that a red ball was drawn in the previous draw (P(Red|Red)):\n",
    "After drawing a red ball, there are still 3 red balls and 5 balls in total. So, P(Red|Red) = 3/5.\n",
    "\n",
    "Now, we can apply Bayes' Theorem to calculate the probability of drawing a red ball twice in a row:\n",
    "\n",
    "P(Red and Red) = P(Red|Red) * P(Red)\n",
    "\n",
    "P(Red and Red) = (3/5) * (1/2)\n",
    "\n",
    "P(Red and Red) = 3/10\n",
    "\n",
    "So, the probability of drawing a red ball twice in a row is 3/10 or 0.3."
   ]
  },
  {
   "cell_type": "markdown",
   "id": "e1e88866-2d99-4e71-8d19-c47220885efb",
   "metadata": {},
   "source": [
    "### Q7. Calculate the 95% confidence interval for a sample of data with a mean of 50 and a standard deviation of 5. Interpret the results."
   ]
  },
  {
   "cell_type": "markdown",
   "id": "24ea67e5-adfa-49ea-9792-abe03386fa5a",
   "metadata": {},
   "source": [
    "To calculate the 95% confidence interval for a sample with a given mean and standard deviation, we will use the following formula:\n",
    "\n",
    "Confidence Interval = Mean ± (Z-score * (Standard Deviation / √Sample Size))\n",
    "\n",
    "In this case, we have a mean of 50, a standard deviation of 5, and we want a 95% confidence interval. For a 95% confidence interval, the Z-score is 1.96 (which can be found in a standard Z-score table).\n",
    "\n",
    "Now, let's assume our sample size (n) is 100. We can plug in the values into the formula:\n",
    "\n",
    "Confidence Interval = 50 ± (1.96 * (5 / √100))\n",
    "\n",
    "Confidence Interval = 50 ± (1.96 * (5 / 10))\n",
    "\n",
    "Confidence Interval = 50 ± (1.96 * 0.5)\n",
    "\n",
    "Confidence Interval = 50 ± 0.98\n",
    "\n",
    "So, the 95% confidence interval is (49.02, 50.98).\n",
    "\n",
    "Interpretation:\n",
    "\n",
    "The 95% confidence interval tells us that we can be 95% confident that the true population mean lies between 49.02 and 50.98. This means that if we were to take many samples of size 100 from the same population and calculate the 95% confidence intervals for each, approximately 95% of those intervals would contain the true population mean. The narrowness of the confidence interval (0.98) indicates that the sample mean is quite close to the true population mean."
   ]
  },
  {
   "cell_type": "code",
   "execution_count": 1,
   "id": "17257797-d669-4de4-8706-a4771768c3b6",
   "metadata": {},
   "outputs": [
    {
     "name": "stdout",
     "output_type": "stream",
     "text": [
      "95% Confidence Interval: (49.02001800772997, 50.97998199227003)\n"
     ]
    }
   ],
   "source": [
    "import scipy.stats as stats\n",
    "\n",
    "# Given data\n",
    "sample_mean = 50\n",
    "population_std_dev = 5\n",
    "confidence_level = 0.95\n",
    "sample_size = 100\n",
    "\n",
    "# Calculate the margin of error\n",
    "margin_of_error = stats.norm.ppf((1 + confidence_level) / 2) * (population_std_dev / (sample_size ** 0.5))\n",
    "\n",
    "# Calculate the confidence interval\n",
    "confidence_interval = (sample_mean - margin_of_error, sample_mean + margin_of_error)\n",
    "\n",
    "print(\"95% Confidence Interval:\", confidence_interval)\n"
   ]
  },
  {
   "cell_type": "markdown",
   "id": "f52f7e95-0eb9-405a-9e79-28371e2ad42d",
   "metadata": {},
   "source": [
    "### Q8. What is the margin of error in a confidence interval? How does sample size affect the margin of error? Provide an example of a scenario where a larger sample size would result in a smaller margin of error."
   ]
  },
  {
   "cell_type": "markdown",
   "id": "92e7c0ac-f357-4bcd-bddc-89b2ebcb84e3",
   "metadata": {},
   "source": [
    "The margin of error in a confidence interval is the range within which we can expect the true population parameter to lie with a certain level of confidence. It represents the uncertainty in our estimate of the population parameter based on a sample.\n",
    "\n",
    "The margin of error is directly affected by the sample size, the confidence level, and the standard deviation or variability in the data. Generally, as the sample size increases, the margin of error decreases, assuming the other factors remain constant. This is because a larger sample size provides more information about the population, leading to a more precise estimate of the population parameter.\n",
    "\n",
    "Let's consider a scenario where a political poll wants to estimate the percentage of people who will vote for a particular candidate with a 95% confidence level. The pollsters want to know the margin of error associated with their estimate.\n",
    "\n",
    "Scenario: A political poll plans to conduct a survey with two different sample sizes: 500 and 1,000 participants. Let's assume that the estimated percentage of people who will vote for the candidate is 50% (which is the mean), and the standard deviation of the percentage of voters is 5% (which represents the variability in the data).\n",
    "\n",
    "For a 95% confidence level and a normal distribution, the margin of error (Z-score) is approximately 1.96.\n",
    "\n",
    "1. With a sample size of 500:\n",
    "\n",
    "Using the formula for margin of error:\n",
    "\n",
    "Margin of Error = Z-score * (Standard Deviation / sqrt(Sample Size))\n",
    "\n",
    "Margin of Error = 1.96 * (0.05 / sqrt(500))\n",
    "\n",
    "Margin of Error ≈ 0.0392 or 3.92%\n",
    "\n",
    "2. With a sample size of 1,000:\n",
    "\n",
    "Margin of Error = 1.96 * (0.05 / sqrt(1000))\n",
    "\n",
    "Margin of Error ≈ 0.0257 or 2.57%\n",
    "\n",
    "In this scenario, a larger sample size (1,000 participants) results in a smaller margin of error (2.57%) compared to a smaller sample size (500 participants, with a margin of error of 3.92%). This demonstrates how increasing the sample size can lead to a more precise estimate and a smaller margin of error in the confidence interval."
   ]
  },
  {
   "cell_type": "markdown",
   "id": "301ca821-d285-4616-bbf0-ea339b867d0d",
   "metadata": {},
   "source": [
    "### Q9. Calculate the z-score for a data point with a value of 75, a population mean of 70, and a population standard deviation of 5. Interpret the results."
   ]
  },
  {
   "cell_type": "markdown",
   "id": "2be7df9f-f8b3-4be2-afb4-e971e8a38175",
   "metadata": {},
   "source": [
    "To calculate the z-score for a data point, we use the formula:\n",
    "\n",
    "z = (X - μ) / σ\n",
    "\n",
    "where z is the z-score, X is the data point's value, μ is the population mean, and σ is the population standard deviation.\n",
    "\n",
    "In this case, we have X = 75, μ = 70, and σ = 5. Plugging these values into the formula, we get:\n",
    "\n",
    "z = (75 - 70) / 5\n",
    "z = 5 / 5\n",
    "z = 1\n",
    "\n",
    "The z-score for this data point is 1.\n",
    "\n",
    "Interpreting the result, a z-score of 1 means that the data point is one standard deviation away from the population mean. In a normal distribution, approximately 34.13% of the data points fall within one standard deviation of the mean. So, a z-score of 1 indicates that this data point is relatively close to the population mean but still outside the central 34.13% of the data."
   ]
  },
  {
   "cell_type": "markdown",
   "id": "f827d147-00d8-41fe-bbb5-bee8a42c126b",
   "metadata": {},
   "source": [
    "### Q10. In a study of the effectiveness of a new weight loss drug, a sample of 50 participants lost an average of 6 pounds with a standard deviation of 2.5 pounds. Conduct a hypothesis test to determine if the drug is significantly effective at a 95% confidence level using a t-test."
   ]
  },
  {
   "cell_type": "markdown",
   "id": "7feb395d-bdcc-4855-b002-d15afa55f816",
   "metadata": {},
   "source": [
    "To conduct a hypothesis test for the effectiveness of the new weight loss drug at a 95% confidence level using a t-test, we'll follow these steps:\n",
    "\n",
    "1. State the null hypothesis (H0) and the alternative hypothesis (H1):\n",
    "H0: μ = 0 (The drug has no significant effect on weight loss)\n",
    "H1: μ ≠ 0 (The drug has a significant effect on weight loss)\n",
    "\n",
    "2. Determine the level of significance (α):\n",
    "α = 0.05 (Since we're working with a 95% confidence level, 1 - α = 0.95)\n",
    "\n",
    "3. Calculate the test statistic (t-score):\n",
    "We'll use the formula for the t-score: t = (sample mean - hypothesized mean) / (sample standard deviation / √n)\n",
    "t = (6 - 0) / (2.5 / √50)\n",
    "t ≈ 6 / 0.3536\n",
    "t ≈ 16.97\n",
    "\n",
    "4. Determine the critical t-value:\n",
    "Since this is a two-tailed test (H1: μ ≠ 0), we'll find the t-value that corresponds to α/2 (0.025) and the degrees of freedom (df = n - 1 = 50 - 1 = 49). Using a t-table or calculator, the critical t-value is approximately ±2.0096.\n",
    "\n",
    "5. Compare the test statistic to the critical t-value:\n",
    "Our calculated t-score (16.97) is greater than the critical t-value (2.0096).\n",
    "\n",
    "6. Make a decision:\n",
    "Since the calculated t-score is greater than the critical t-value, we reject the null hypothesis (H0) in favor of the alternative hypothesis (H1). This means that there is significant evidence to suggest that the new weight loss drug has a significant effect on weight loss at a 95% confidence level."
   ]
  },
  {
   "cell_type": "code",
   "execution_count": 2,
   "id": "301b5681-e5eb-4b0a-ab2a-1616b25ab8ea",
   "metadata": {},
   "outputs": [
    {
     "name": "stdout",
     "output_type": "stream",
     "text": [
      "Reject the null hypothesis (H0) in favor of the alternative hypothesis (H1).\n"
     ]
    }
   ],
   "source": [
    "import numpy as np\n",
    "import scipy.stats as stats\n",
    "\n",
    "# Define the sample data:\n",
    "sample_mean = 6\n",
    "sample_std = 2.5\n",
    "sample_size = 50\n",
    "\n",
    "# Set the level of significance\n",
    "alpha = 0.05\n",
    "\n",
    "# Calculate the t-score:\n",
    "t_score = (sample_mean - 0) / (sample_std / np.sqrt(sample_size))\n",
    "\n",
    "# Determine the degrees of freedom:\n",
    "degrees_of_freedom = sample_size - 1\n",
    "\n",
    "# Calculate the critical t-value:\n",
    "critical_t_value = stats.t.ppf((1 + alpha) / 2, degrees_of_freedom)\n",
    "\n",
    "# Compare the calculated t-score to the critical t-value:\n",
    "if t_score > critical_t_value:\n",
    "    print(\"Reject the null hypothesis (H0) in favor of the alternative hypothesis (H1).\")\n",
    "else:\n",
    "    print(\"Fail to reject the null hypothesis (H0) at a 95% confidence level.\")"
   ]
  },
  {
   "cell_type": "markdown",
   "id": "c01b1477-4624-431c-8afa-a69ddd8613f6",
   "metadata": {},
   "source": [
    "### Q11. In a survey of 500 people, 65% reported being satisfied with their current job. Calculate the 95% confidence interval for the true proportion of people who are satisfied with their job."
   ]
  },
  {
   "cell_type": "code",
   "execution_count": 1,
   "id": "d67b438e-85b0-4d3a-b2b5-7f3d526007c0",
   "metadata": {},
   "outputs": [
    {
     "name": "stdout",
     "output_type": "stream",
     "text": [
      "Proportion of people satisfied: 0.6500\n",
      "95% Confidence Interval: (0.6081925393809212, 0.6918074606190788)\n"
     ]
    }
   ],
   "source": [
    "import scipy.stats as stats\n",
    "import numpy as np\n",
    "\n",
    "# Given data\n",
    "sample_size = 500\n",
    "satisfied_count = 0.65 * sample_size  # 65% reported satisfaction\n",
    "confidence_level = 0.95\n",
    "\n",
    "# Calculate the sample proportion\n",
    "p_hat = satisfied_count / sample_size\n",
    "\n",
    "# Calculate the standard error of the proportion\n",
    "standard_error = np.sqrt((p_hat * (1 - p_hat)) / sample_size)\n",
    "\n",
    "# Calculate the margin of error\n",
    "margin_of_error = stats.norm.ppf(1 - (1 - confidence_level) / 2) * standard_error\n",
    "\n",
    "# Calculate the confidence interval\n",
    "confidence_interval = (p_hat - margin_of_error, p_hat + margin_of_error)\n",
    "\n",
    "# Display results\n",
    "print(f'Proportion of people satisfied: {p_hat:.4f}')\n",
    "print(f'95% Confidence Interval: {confidence_interval}')\n"
   ]
  },
  {
   "cell_type": "markdown",
   "id": "225bd9f1-21d5-468f-9b15-1ecc136cb3e9",
   "metadata": {},
   "source": [
    "Note: The normal approximation is suitable when both np and n(1-p) are greater than 5, where n is the sample size and p is the sample proportion. In this case, 500 * 0.65 and 500 * 0.35 are both greater than 5, so the normal approximation is reasonable. If this condition is not met, you might consider using the binomial distribution for a more accurate calculation.\n",
    "\n",
    "\n",
    "\n"
   ]
  },
  {
   "cell_type": "markdown",
   "id": "64962b0d-4b69-42cf-8af0-456f4824ccc7",
   "metadata": {},
   "source": [
    "### Q12. A researcher is testing the effectiveness of two different teaching methods on student performance. Sample A has a mean score of 85 with a standard deviation of 6, while sample B has a mean score of 82 with a standard deviation of 5. Conduct a hypothesis test to determine if the two teaching methods have a significant difference in student performance using a t-test with a significance level of 0.01."
   ]
  },
  {
   "cell_type": "markdown",
   "id": "56aef723-165c-4401-a6c9-adf13c1dd7fe",
   "metadata": {},
   "source": [
    "To conduct a t-test to determine if there is a significant difference in student performance between the two teaching methods, we will follow these steps:\n",
    "\n",
    "1. State the null hypothesis (H0) and alternative hypothesis (H1):\n",
    "H0: There is no significant difference in student performance between the two teaching methods (μ1 = μ2).\n",
    "H1: There is a significant difference in student performance between the two teaching methods (μ1 ≠ μ2).\n",
    "\n",
    "2. Determine the significance level (α):\n",
    "α = 0.01\n",
    "\n",
    "3. Calculate the pooled variance:\n",
    "Since we don't have information about the correlation between the two samples, we will assume them to be independent. The degrees of freedom (df) for the t-test can be calculated using the formula:\n",
    "\n",
    "df = (n1 - 1) + (n2 - 1)\n",
    "\n",
    "where n1 and n2 are the sample sizes of the two groups. However, we don't have the sample sizes, so we cannot calculate the degrees of freedom and proceed with the t-test.\n",
    "\n",
    "4. Calculate the t-score:\n",
    "We cannot calculate the t-score without the sample sizes and degrees of freedom.\n",
    "\n",
    "5. Determine the critical t-value:\n",
    "We cannot determine the critical t-value without the degrees of freedom.\n",
    "\n",
    "6. Compare the calculated t-score with the critical t-value:\n",
    "We cannot perform this step without the calculated t-score and critical t-value.\n",
    "\n",
    "7. Make a decision:\n",
    "Based on the comparison between the calculated t-score and the critical t-value, we would either reject the null hypothesis (H0) or fail to reject it (i.e., not enough evidence to support H1). However, we cannot make this decision without the calculated t-score and critical t-value.\n",
    "\n",
    "In conclusion, we cannot conduct the t-test to determine if there is a significant difference in student performance between the two teaching methods without the sample sizes."
   ]
  },
  {
   "cell_type": "markdown",
   "id": "e0742916-8958-4656-ba99-d9b234a14e8e",
   "metadata": {},
   "source": [
    "**If we suppose sample sizes 30**"
   ]
  },
  {
   "cell_type": "code",
   "execution_count": 2,
   "id": "a15c933c-6286-4d07-85ba-fef983606fe9",
   "metadata": {},
   "outputs": [
    {
     "name": "stdout",
     "output_type": "stream",
     "text": [
      "There is sufficient evidence to reject the null hypothesis. The two teaching methods have a significant difference in student performance.\n"
     ]
    }
   ],
   "source": [
    "import scipy.stats as stats\n",
    "\n",
    "# define the given information:\n",
    "mean1= 85\n",
    "std_dev1 = 6\n",
    "sample_size1 = 30\n",
    "\n",
    "mean2 = 82\n",
    "std_dev2 = 5\n",
    "sample_size2 = 30\n",
    "significance_level = 0.01\n",
    "\n",
    "# calculate the t-score and the p-value using the ttest_ind function from scipy.stats\n",
    "t_score, p_value = stats.ttest_ind(\n",
    "    stats.norm.rvs(loc=mean1, scale=std_dev1, size=sample_size1),\n",
    "    stats.norm.rvs(loc=mean2, scale=std_dev2, size=sample_size2),\n",
    ")\n",
    "\n",
    "# compare the t-score with the critical t-value at the given significance level\n",
    "critical_t_value = stats.t.ppf((1 - significance_level) / 2, df=sample_size1 + sample_size2 - 2)\n",
    "\n",
    "if abs(t_score) > critical_t_value:\n",
    "    print(\"There is sufficient evidence to reject the null hypothesis. The two teaching methods have a significant difference in student performance.\")\n",
    "else:\n",
    "    print(\"There is not enough evidence to reject the null hypothesis. We cannot conclude that the two teaching methods have a significant difference in student performance.\")"
   ]
  },
  {
   "cell_type": "markdown",
   "id": "67a75e22-2690-4402-9947-c0983f373115",
   "metadata": {},
   "source": [
    "### Q13. A population has a mean of 60 and a standard deviation of 8. A sample of 50 observations has a mean of 65. Calculate the 90% confidence interval for the true population mean."
   ]
  },
  {
   "cell_type": "markdown",
   "id": "9414af76-ccc1-403e-96a0-bffd15028518",
   "metadata": {},
   "source": [
    "To calculate the 90% confidence interval for the true population mean, we will use the following formula for a sample with a known population standard deviation:\n",
    "\n",
    "Confidence Interval = Sample Mean ± (Critical Value * (Standard Deviation / √Sample Size))\n",
    "\n",
    "In this case, we have:\n",
    "\n",
    "Sample Mean (x̄) = 65\n",
    "Population Standard Deviation (σ) = 8\n",
    "Sample Size (n) = 50\n",
    "\n",
    "First, find the critical value for a 90% confidence interval. For a normal distribution, we can use the Z-score corresponding to α/2, which is 0.05 in this case:\n",
    "\n",
    "Critical Value = Z-score = 1.645 (from the standard normal distribution table or using Python's `scipy.stats.norm.ppf`)\n",
    "\n",
    "Now, calculate the confidence interval:\n",
    "\n",
    "Confidence Interval = 65 ± (1.645 * (8 / √50))\n",
    "\n",
    "Confidence Interval = 65 ± (1.645 * (8 / 7.071))\n",
    "\n",
    "Confidence Interval = 65 ± (1.645 * 1.14)\n",
    "\n",
    "Confidence Interval = 65 ± 1.87\n",
    "\n",
    "So, the 90% confidence interval for the true population mean is (63.13, 66.87)."
   ]
  },
  {
   "cell_type": "code",
   "execution_count": 6,
   "id": "0a3164fb-4ff5-4e09-b249-55e07047d9be",
   "metadata": {},
   "outputs": [
    {
     "name": "stdout",
     "output_type": "stream",
     "text": [
      "90% Confidence Interval: (63.10, 66.90)\n"
     ]
    }
   ],
   "source": [
    "import scipy.stats as stats\n",
    "import math\n",
    "\n",
    "# Given data\n",
    "sample_mean = 65\n",
    "population_std_dev = 8\n",
    "sample_size = 50\n",
    "confidence_level = 0.90\n",
    "\n",
    "# Calculate standard error\n",
    "standard_error = population_std_dev / math.sqrt(sample_size)\n",
    "\n",
    "# Find the critical value for the confidence level\n",
    "degrees_of_freedom = sample_size - 1\n",
    "critical_value = stats.t.ppf((1 + confidence_level) / 2, degrees_of_freedom)\n",
    "\n",
    "# Calculate margin of error\n",
    "margin_of_error = critical_value * standard_error\n",
    "\n",
    "# Calculate confidence interval\n",
    "confidence_interval_lower = sample_mean - margin_of_error\n",
    "confidence_interval_upper = sample_mean + margin_of_error\n",
    "\n",
    "print(f\"90% Confidence Interval: ({confidence_interval_lower:.2f}, {confidence_interval_upper:.2f})\")\n"
   ]
  },
  {
   "cell_type": "markdown",
   "id": "9d56ecbe-b308-46a6-9d5d-65cf914118f3",
   "metadata": {},
   "source": [
    "### Q14. In a study of the effects of caffeine on reaction time, a sample of 30 participants had an average reaction time of 0.25 seconds with a standard deviation of 0.05 seconds. Conduct a hypothesis test to determine if the caffeine has a significant effect on reaction time at a 90% confidence level using a t-test."
   ]
  },
  {
   "cell_type": "markdown",
   "id": "00520d94-39ff-48ad-a630-6dd7ad22cd7f",
   "metadata": {},
   "source": [
    "To conduct a hypothesis test using a t-test at a 90% confidence level, we will follow these steps:\n",
    "\n",
    "1. State the null and alternative hypotheses.\n",
    "2. Calculate the test statistic (t-score).\n",
    "3. Determine the critical value for the t-distribution.\n",
    "4. Compare the test statistic to the critical value and make a decision.\n",
    "\n",
    "Step 1: State the null and alternative hypotheses\n",
    "- Null hypothesis (H0): There is no significant effect of caffeine on reaction time (μ = 0).\n",
    "- Alternative hypothesis (H1): There is a significant effect of caffeine on reaction time (μ ≠ 0).\n",
    "\n",
    "Step 2: Calculate the test statistic (t-score)\n",
    "- Sample mean (x̄) = 0.25 seconds\n",
    "- Sample standard deviation (s) = 0.05 seconds\n",
    "- Sample size (n) = 30\n",
    "\n",
    "First, we need to calculate the standard error (SE) of the sample mean:\n",
    "SE = s / √n = 0.05 / √30 ≈ 0.009128\n",
    "\n",
    "Now, calculate the t-score:\n",
    "t = (x̄ - μ) / SE = (0.25 - 0) / 0.009128 ≈ 27.39\n",
    "\n",
    "Step 3: Determine the critical value for the t-distribution\n",
    "For a two-tailed t-test with a 90% confidence level and degrees of freedom (df) equal to n - 1 (29 in this case), we can use Python's `scipy` library to find the critical value:\n",
    "\n",
    "The critical value for this case is approximately 1.699.\n",
    "\n",
    "Step 4: Compare the test statistic to the critical value and make a decision\n",
    "Since the calculated t-score (27.39) is greater than the critical value (1.699), we reject the null hypothesis. This indicates that there is a significant effect of caffeine on reaction time at a 90% confidence level using a t-test."
   ]
  },
  {
   "cell_type": "code",
   "execution_count": 10,
   "id": "2b6d5e9d-97f9-4c09-8503-3f67b24cfbf5",
   "metadata": {},
   "outputs": [
    {
     "name": "stdout",
     "output_type": "stream",
     "text": [
      "The t-score is 27.39. Since it's greater than the critical value 1.70, we Reject the null hypothesis.\n"
     ]
    }
   ],
   "source": [
    "import numpy as np\n",
    "import scipy.stats as stats\n",
    "\n",
    "sample_mean = 0.25\n",
    "sample_std_dev = 0.05\n",
    "sample_size = 30\n",
    "null_hypothesis = 0\n",
    "confidence_level = 0.90\n",
    "\n",
    "SE = sample_std_dev / np.sqrt(sample_size)\n",
    "\n",
    "t_score = (sample_mean - null_hypothesis) / SE\n",
    "\n",
    "degrees_of_freedom = sample_size - 1\n",
    "critical_value = stats.t.ppf((1 + confidence_level) / 2, degrees_of_freedom)\n",
    "\n",
    "if abs(t_score) > critical_value:\n",
    "    decision = \"Reject the null hypothesis\"\n",
    "else:\n",
    "    decision = \"Fail to reject the null hypothesis\"\n",
    "\n",
    "print(f\"The t-score is {t_score:.2f}. Since it's greater than the critical value {critical_value:.2f}, we {decision}.\")"
   ]
  },
  {
   "cell_type": "markdown",
   "id": "4aff257a-120b-4f08-b2c9-6dab5aba0f3d",
   "metadata": {},
   "source": [
    "$$  The End $$"
   ]
  }
 ],
 "metadata": {
  "kernelspec": {
   "display_name": "Python 3 (ipykernel)",
   "language": "python",
   "name": "python3"
  },
  "language_info": {
   "codemirror_mode": {
    "name": "ipython",
    "version": 3
   },
   "file_extension": ".py",
   "mimetype": "text/x-python",
   "name": "python",
   "nbconvert_exporter": "python",
   "pygments_lexer": "ipython3",
   "version": "3.10.8"
  }
 },
 "nbformat": 4,
 "nbformat_minor": 5
}
